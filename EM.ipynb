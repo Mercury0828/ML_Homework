{
 "cells": [
  {
   "cell_type": "code",
   "execution_count": 47,
   "id": "81bf60a6-f169-44ff-8c11-0128bbfd4d4b",
   "metadata": {},
   "outputs": [],
   "source": [
    "\n",
    "# Standard scientific Python imports\n",
    "import matplotlib.pyplot as plt\n",
    "\n",
    "# Import datasets, classifiers and performance metrics\n",
    "import numpy as np\n",
    "from sklearn import datasets, svm, metrics\n",
    "from sklearn.model_selection import train_test_split\n",
    "\n",
    "\n",
    "digits = datasets.load_digits()\n",
    "target = digits.target"
   ]
  },
  {
   "cell_type": "code",
   "execution_count": 48,
   "id": "552a8469-e094-4e48-a908-8398bc4ba938",
   "metadata": {},
   "outputs": [
    {
     "data": {
      "image/png": "[encoded data removed]",
      "text/plain": [
       "<Figure size 432x288 with 1 Axes>"
      ]
     },
     "metadata": {
      "needs_background": "light"
     },
     "output_type": "display_data"
    }
   ],
   "source": [
    "#(a) Plot a picture of the mean vector.\n",
    "mean = sum(digits.images)/digits.images.shape[0]\n",
    "plt.imshow(mean, cmap=plt.cm.gray_r)\n",
    "plt.show()"
   ]
  },
  {
   "cell_type": "code",
   "execution_count": 49,
   "id": "8d7e9e21-43e4-409d-8649-fdbcce057fb9",
   "metadata": {},
   "outputs": [
    {
     "data": {
      "image/png": "[encoded data removed]",
      "text/plain": [
       "<Figure size 432x288 with 1 Axes>"
      ]
     },
     "metadata": {
      "needs_background": "light"
     },
     "output_type": "display_data"
    }
   ],
   "source": [
    "#(b) For EM, plot a picture of the initial values of each column of factor loading matrix and the\n",
    "#final values as well.\n",
    "mu = mean.flatten()\n",
    "N = digits.images.shape[0]\n",
    "D = digits.images.shape[1]*digits.images.shape[2]\n",
    "H = 2\n",
    "\n",
    "Images = np.zeros((D, N))\n",
    "for i in range(N):\n",
    "    Images[:, i] = digits.images[i].flatten() - mu\n",
    "\n",
    "#initalize the loading matrix and plot(max=1, min=0)\n",
    "W = np.random.uniform(0,1,(D,H))\n",
    "plt.imshow(W, cmap=plt.cm.gray_r)\n",
    "plt.show()"
   ]
  },
  {
   "cell_type": "code",
   "execution_count": 50,
   "id": "80cfae71-16e9-4e62-b43f-8829ed1bd5ff",
   "metadata": {},
   "outputs": [
    {
     "data": {
      "image/png": "[encoded data removed]",
      "text/plain": [
       "<Figure size 432x288 with 1 Axes>"
      ]
     },
     "metadata": {
      "needs_background": "light"
     },
     "output_type": "display_data"
    }
   ],
   "source": [
    "#(c) Plot a picture of the diagonal elements of noise variance.\n",
    "Var = np.zeros(D)\n",
    "for i in range(D):\n",
    "    Var[i] = np.var(Images[i, :])\n",
    "    if Var[i] == 0:\n",
    "        Var[i] = 0.01\n",
    "\n",
    "\n",
    "#initalize diagonal elements of noise variance\n",
    "Psi = np.diag(Var)\n",
    "plt.imshow(Psi, cmap=plt.cm.gray_r)\n",
    "plt.show()"
   ]
  },
  {
   "cell_type": "code",
   "execution_count": 51,
   "id": "62a11ad4-566b-4058-9fe1-5c71578e365b",
   "metadata": {},
   "outputs": [
    {
     "name": "stdout",
     "output_type": "stream",
     "text": [
      "-48233.16612611367\n",
      "-23624.358852199533\n",
      "-16569.02712686203\n",
      "-13918.043126215693\n",
      "-12853.537790246544\n",
      "-12406.515906599212\n",
      "-12219.057484010274\n",
      "-12049.095702358907\n",
      "-11914.296436436249\n",
      "-11872.28833832858\n"
     ]
    },
    {
     "data": {
      "image/png": "[encoded data removed]",
      "text/plain": [
       "<Figure size 432x288 with 1 Axes>"
      ]
     },
     "metadata": {
      "needs_background": "light"
     },
     "output_type": "display_data"
    }
   ],
   "source": [
    "#(d) Plot the trajectory of the average log likelihood for each step until convergence or termination\n",
    "#or the best parameter.\n",
    "\n",
    "#Calculate the expectation of z|x\n",
    "def Expect_z_x(W, Psi, x):\n",
    "    Psi_inv= np.linalg.pinv(Psi)\n",
    "    return np.dot(np.linalg.pinv((np.identity(H) + np.dot(np.dot(W.T,Psi_inv), W))), np.dot(np.dot(W.T, Psi_inv), x))\n",
    "\n",
    "\n",
    "#calculate z from X = Wz + eplison\n",
    "def Update_z(W, Psi, X):\n",
    "    Z = np.zeros((X.shape[1],H))\n",
    "    for i in range(X.shape[1]):\n",
    "        Z[i, :] = np.dot(np.linalg.pinv(W), X[:, i] - np.random.multivariate_normal(np.zeros(D), Psi).T)\n",
    "    return Z\n",
    "\n",
    "#calculate the log-likelihood function\n",
    "def Loglikelihood(W, Psi, X):\n",
    "    l=0\n",
    "    Z = Update_z(W, Psi, X)\n",
    "    for i in range(X.shape[1]):\n",
    "        l += np.dot(np.dot((X[:, i]-np.dot(W, Z[i, :])).T,np.linalg.pinv(Psi)), (X[:, i]-np.dot(W, Z[i, :]))) + np.dot(Z[i, :].T, Z[i, :])\n",
    "    l *= -0.5\n",
    "    l -= X.shape[1]/2*(np.log(np.linalg.det(Psi))-np.log(H))-X.shape[1]*D/2*np.log(2*np.pi)\n",
    "    return l\n",
    "\n",
    "#Iteration for W\n",
    "def Iteration_W(W, Psi, X):\n",
    "    temp1 = np.zeros((D, H))\n",
    "    temp2 = np.zeros((H, H))\n",
    "    for i in range(X.shape[1]):\n",
    "        Ez_x = Expect_z_x(W, Psi, X[:, i]).reshape(H,-1)\n",
    "        temp1 += np.dot(X[:, i].reshape(D,-1), Ez_x.T)\n",
    "        temp2 += np.dot(Ez_x, Ez_x.T)\n",
    "    return np.dot(temp1, np.linalg.inv(temp2))\n",
    "\n",
    "#Iteration for Phi\n",
    "def Iteration_Psi(W, Psi, X):\n",
    "    temp = [0.01]*64\n",
    "    temp = np.diag(temp)\n",
    "    for i in range(X.shape[1]):\n",
    "        Ez_x = Expect_z_x(W, Psi, X[:, i])\n",
    "        temp += np.dot(X[:, i].reshape(D,-1), X[:,i].reshape(D,-1).T) + np.dot(W, np.dot(Ez_x.reshape(H,1), X[:,i].reshape(D,-1).T))\n",
    "    return np.diag(np.diag(temp))/N\n",
    "\n",
    "\n",
    "def SplitData(X, target, size):\n",
    "    Index = np.arange(0,N)\n",
    "    train_in, test_in = train_test_split(Index, test_size=size, random_state=42)\n",
    "    train = Images[:, train_in]\n",
    "    test = Images[:, test_in]\n",
    "    target_train = target[train_in]\n",
    "    target_test = target[test_in]\n",
    "    return train, test, target_train, target_test\n",
    "\n",
    "def DoIteration(W_t, Psi_t, X):\n",
    "    l = []\n",
    "    l_old = 0\n",
    "    l_new = 500\n",
    "\n",
    "    # using the algorithm 12.41\n",
    "    while abs((l_new - l_old) / l_new) > 0.01:\n",
    "        l_old = l_new\n",
    "        W_t = Iteration_W(W_t, Psi_t, X)\n",
    "        Psi_t = Iteration_Psi(W_t, Psi_t, X)\n",
    "        l_new = Loglikelihood(W_t, Psi_t, X)\n",
    "        l.append(l_new.real)\n",
    "        print(l_new.real)\n",
    "    return l, W_t, Psi_t\n",
    "\n",
    "\n",
    "train_set, test_set, target_train, target_test = SplitData(Images, target, 0.8)\n",
    "l, W, Psi = DoIteration(W, Psi, train_set)\n",
    "plt.plot(l)\n",
    "plt.show()"
   ]
  },
  {
   "cell_type": "code",
   "execution_count": 54,
   "id": "8b2c8b52-a072-4d9d-b99c-a4b6c7419c62",
   "metadata": {},
   "outputs": [
    {
     "data": {
      "image/png": "[encoded data removed]",
      "text/plain": [
       "<Figure size 432x288 with 1 Axes>"
      ]
     },
     "metadata": {
      "needs_background": "light"
     },
     "output_type": "display_data"
    }
   ],
   "source": [
    "#(b) For EM, plot a picture of the initial values of each column of factor loading matrix and the\n",
    "#final values as well.\n",
    "plt.imshow(W, cmap=plt.cm.gray_r)\n",
    "plt.show()"
   ]
  },
  {
   "cell_type": "code",
   "execution_count": 52,
   "id": "d0f85381-2745-40f7-978d-52f6ac71377b",
   "metadata": {},
   "outputs": [
    {
     "name": "stdout",
     "output_type": "stream",
     "text": [
      "Training set : -11884.027334582024\n",
      "Testing set : -362127.8604979651\n"
     ]
    }
   ],
   "source": [
    "#(e) Calculate the average log likelihood the data\n",
    "ll_train = Loglikelihood(W, Psi, train_set)\n",
    "ll_test = Loglikelihood(W, Psi, test_set)\n",
    "print(\"Training set :\", ll_train)\n",
    "print(\"Testing set :\", ll_test)\n"
   ]
  },
  {
   "cell_type": "code",
   "execution_count": 60,
   "id": "de64e7b5-6a4d-4da8-ae82-b79fc80adaf9",
   "metadata": {},
   "outputs": [
    {
     "data": {
      "image/png": "[encoded data removed]",
      "text/plain": [
       "<Figure size 432x288 with 1 Axes>"
      ]
     },
     "metadata": {
      "needs_background": "light"
     },
     "output_type": "display_data"
    }
   ],
   "source": [
    "#(f) Histogram of the log likelihoods of the training case and test case\n",
    "def Loglikelihood_list(W, Psi, X):\n",
    "    l_list = []\n",
    "    l = 0\n",
    "    Z = Update_z(W, Psi, X)\n",
    "    for i in range(X.shape[1]):\n",
    "        l = -0.5 * np.dot(np.dot((X[:, i]-np.dot(W, Z[i, :])).T,np.linalg.pinv(Psi)), (X[:, i]-np.dot(W, Z[i, :]))) + np.dot(Z[i, :].T, Z[i, :])\n",
    "        l -= 1/2*(np.log(np.linalg.det(Psi))-np.log(H))-D/2*np.log(2*np.pi)\n",
    "        l_list.append(l)\n",
    "    return l_list\n",
    "\n",
    "l_list = Loglikelihood_list(W, Psi, train_set)\n",
    "plt.hist(l_list, bins=2000)\n",
    "plt.show()\n"
   ]
  },
  {
   "cell_type": "code",
   "execution_count": 53,
   "id": "2d2e5890-cd11-48b9-8a8e-6d70a912d50c",
   "metadata": {},
   "outputs": [
    {
     "data": {
      "image/png": "[encoded data removed]",
      "text/plain": [
       "<Figure size 432x288 with 1 Axes>"
      ]
     },
     "metadata": {
      "needs_background": "light"
     },
     "output_type": "display_data"
    }
   ],
   "source": [
    "#(e) 2D scatter plot ( z 1 ,z 2 ) by computing the posterior mean of each point p ( z|x )\n",
    "\n",
    "\n",
    "Z = np.zeros((test_set.shape[1], 2))\n",
    "for i in range(test_set.shape[1]):\n",
    "    Z[i, :] = Expect_z_x(W, Psi, test_set[:, i])\n",
    "\n",
    "\n",
    "    \n",
    "colors = ['#000000', '#FFFF00', '#4169E1', '#B0E0E6', '#385E0F', '#FF6100', '#FF0000', '#191970', '#A020F0', '#7FFF00']\n",
    "for i in range(9):\n",
    "    plt.scatter(Z[target_test == i,0], Z[target_test == i, 1], c = colors[i])\n",
    "plt.show()"
   ]
  },
  {
   "cell_type": "code",
   "execution_count": 55,
   "id": "6a5d518e-6c38-4875-9c4f-9eaaf3f9cf93",
   "metadata": {},
   "outputs": [
    {
     "name": "stdout",
     "output_type": "stream",
     "text": [
      "smallest z1 :  -0.8639799144335639\n",
      "median z1 :  0.012365286258682495\n",
      "largest z1 :  0.407558436442694\n",
      "smallest z2 :  -0.2508967206207578\n",
      "median z2 :  -0.023467697034604926\n",
      "largest z2 :  0.6697216547318279\n"
     ]
    }
   ],
   "source": [
    "#(h) Show the sample data with the smallest, median and largest posterior values on both z 1 and z 2\n",
    "z1_smallest = np.min(Z[:, 0])\n",
    "z1_median = np.median(Z[:, 0])\n",
    "z1_largest = np.max(Z[:, 0])\n",
    "z2_smallest = np.min(Z[:, 1])\n",
    "z2_median = np.median(Z[:, 1])\n",
    "z2_largest = np.max(Z[:, 1])\n",
    "print(\"smallest z1 : \", z1_smallest)\n",
    "print(\"median z1 : \", z1_median)\n",
    "print(\"largest z1 : \", z1_largest)\n",
    "print(\"smallest z2 : \", z2_smallest)\n",
    "print(\"median z2 : \", z2_median)\n",
    "print(\"largest z2 : \", z2_largest)"
   ]
  }
 ],
 "metadata": {
  "kernelspec": {
   "display_name": "Python 3",
   "language": "python",
   "name": "python3"
  },
  "language_info": {
   "codemirror_mode": {
    "name": "ipython",
    "version": 3
   },
   "file_extension": ".py",
   "mimetype": "text/x-python",
   "name": "python",
   "nbconvert_exporter": "python",
   "pygments_lexer": "ipython3",
   "version": "3.6.2"
  }
 },
 "nbformat": 4,
 "nbformat_minor": 5
}
